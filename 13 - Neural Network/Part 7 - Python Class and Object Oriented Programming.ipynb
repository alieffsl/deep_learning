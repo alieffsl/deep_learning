{
 "cells": [
  {
   "cell_type": "code",
   "execution_count": 22,
   "id": "206491a4",
   "metadata": {},
   "outputs": [],
   "source": [
    "class Manusia:\n",
    "    def __init__(self, warna_rambut, tinggi, berat):\n",
    "        self.warna_rambut = warna_rambut\n",
    "        self.tinggi = tinggi\n",
    "        self.berat = berat\n",
    "    def cat_rambutnya(self, warna):\n",
    "        self.warna_rambut = warna\n",
    "        print(f\"Rambutnya jadi warna: {warna}\")\n",
    "        \n",
    "    def BMI(self):\n",
    "        return self.berat / self.tinggi ** 2"
   ]
  },
  {
   "cell_type": "code",
   "execution_count": 23,
   "id": "c3328f50",
   "metadata": {},
   "outputs": [],
   "source": [
    "wira = Manusia(\"pink\", 180, 70)"
   ]
  },
  {
   "cell_type": "code",
   "execution_count": 24,
   "id": "60bfd4d8",
   "metadata": {},
   "outputs": [
    {
     "name": "stdout",
     "output_type": "stream",
     "text": [
      "Rambutnya jadi warna: hitam\n"
     ]
    }
   ],
   "source": [
    "wira.cat_rambutnya(\"hitam\")"
   ]
  },
  {
   "cell_type": "code",
   "execution_count": 25,
   "id": "72195ca2",
   "metadata": {},
   "outputs": [
    {
     "data": {
      "text/plain": [
       "0.0021604938271604936"
      ]
     },
     "execution_count": 25,
     "metadata": {},
     "output_type": "execute_result"
    }
   ],
   "source": [
    "wira.BMI()"
   ]
  },
  {
   "cell_type": "code",
   "execution_count": 26,
   "id": "26375fc2",
   "metadata": {},
   "outputs": [],
   "source": [
    "ferdian = Manusia(\"Ungu\", 190, 82)"
   ]
  },
  {
   "cell_type": "code",
   "execution_count": 27,
   "id": "7ab647c1",
   "metadata": {},
   "outputs": [
    {
     "name": "stdout",
     "output_type": "stream",
     "text": [
      "Rambutnya jadi warna: biru\n"
     ]
    }
   ],
   "source": [
    "ferdian.cat_rambutnya(\"biru\")"
   ]
  },
  {
   "cell_type": "code",
   "execution_count": 28,
   "id": "a23f5dcb",
   "metadata": {},
   "outputs": [
    {
     "data": {
      "text/plain": [
       "'biru'"
      ]
     },
     "execution_count": 28,
     "metadata": {},
     "output_type": "execute_result"
    }
   ],
   "source": [
    "ferdian.warna_rambut"
   ]
  },
  {
   "cell_type": "markdown",
   "id": "41b7c2b0",
   "metadata": {},
   "source": [
    "###  Inheritance"
   ]
  },
  {
   "cell_type": "code",
   "execution_count": 49,
   "id": "48d88bbc",
   "metadata": {},
   "outputs": [],
   "source": [
    "class Mahasiswa(Manusia):\n",
    "    def __init__(self, warna_rambut, tinggi, berat, univ, nim):\n",
    "        super().__init__(warna_rambut, tinggi, berat)\n",
    "        self.universitas = univ\n",
    "        self.nim = nim\n",
    "    def pindah_univ(self, univ_baru):\n",
    "        self.universitas = univ_baru"
   ]
  },
  {
   "cell_type": "code",
   "execution_count": 50,
   "id": "10d10534",
   "metadata": {},
   "outputs": [],
   "source": [
    "terry = Mahasiswa(\"hitam\", 170, 65, \"ITB\", \"162112233026\")"
   ]
  },
  {
   "cell_type": "code",
   "execution_count": 51,
   "id": "c61f1772",
   "metadata": {},
   "outputs": [
    {
     "data": {
      "text/plain": [
       "'162112233026'"
      ]
     },
     "execution_count": 51,
     "metadata": {},
     "output_type": "execute_result"
    }
   ],
   "source": [
    "terry.nim"
   ]
  },
  {
   "cell_type": "code",
   "execution_count": 52,
   "id": "36a8e7b6",
   "metadata": {},
   "outputs": [
    {
     "data": {
      "text/plain": [
       "'ITB'"
      ]
     },
     "execution_count": 52,
     "metadata": {},
     "output_type": "execute_result"
    }
   ],
   "source": [
    "terry.universitas"
   ]
  },
  {
   "cell_type": "code",
   "execution_count": 53,
   "id": "b3d62c9a",
   "metadata": {},
   "outputs": [],
   "source": [
    "terry.pindah_univ(\"MIT\")"
   ]
  },
  {
   "cell_type": "code",
   "execution_count": 54,
   "id": "db419baa",
   "metadata": {},
   "outputs": [
    {
     "data": {
      "text/plain": [
       "'MIT'"
      ]
     },
     "execution_count": 54,
     "metadata": {},
     "output_type": "execute_result"
    }
   ],
   "source": [
    "terry.universitas"
   ]
  },
  {
   "cell_type": "markdown",
   "id": "e6612bcc",
   "metadata": {},
   "source": [
    "## PyTorch NN Module"
   ]
  },
  {
   "cell_type": "code",
   "execution_count": 70,
   "id": "a1931a13",
   "metadata": {},
   "outputs": [],
   "source": [
    "import torch.nn as nn\n",
    "# from torch import nn"
   ]
  },
  {
   "cell_type": "code",
   "execution_count": 71,
   "id": "49351a99",
   "metadata": {},
   "outputs": [],
   "source": [
    "??nn.Module"
   ]
  },
  {
   "cell_type": "code",
   "execution_count": 72,
   "id": "b7354a4b",
   "metadata": {},
   "outputs": [],
   "source": [
    "class CustomNN(nn.Module):\n",
    "    def __init__(self, input_size, output_size):\n",
    "        super().__init__()\n",
    "        self.fc = nn.Sequential(\n",
    "            nn.Linear(input_size, 16),\n",
    "            nn.ReLU(),\n",
    "            nn.Linear(16, 8),\n",
    "            nn.ReLU(),\n",
    "            nn.Linear(8, output_size),\n",
    "            nn.Sigmoid()\n",
    "        )\n",
    "        \n",
    "    def forward(self, x):\n",
    "        return self.fc(x)\n",
    "        "
   ]
  },
  {
   "cell_type": "code",
   "execution_count": 73,
   "id": "9a9f8e50",
   "metadata": {},
   "outputs": [],
   "source": [
    "class FaceBiometric(nn.Module):\n",
    "    def __init__(self, input_size, output_size):\n",
    "        super().__init__()\n",
    "        self.fc = nn.Sequential(\n",
    "            nn.Linear(input_size, 16),\n",
    "            nn.ReLU()\n",
    "        )\n",
    "        \n",
    "        self.reg = nn.Linear(16,4)\n",
    "        self.clf = nn.Sequential(\n",
    "            nn.Linear(16, 4),\n",
    "            nn.Sigmoid()\n",
    "        )\n",
    "        \n",
    "    def forward(self, x):\n",
    "        x= self.fc(x)\n",
    "        pred_reg = self.reg(x)\n",
    "        pred_clf = self.clf(x)\n",
    "        return pred_reg, pred_clf\n",
    "        "
   ]
  },
  {
   "cell_type": "code",
   "execution_count": 79,
   "id": "78f0fd8f",
   "metadata": {},
   "outputs": [],
   "source": [
    "model = CustomNN(7,1)"
   ]
  },
  {
   "cell_type": "code",
   "execution_count": 80,
   "id": "29f047f6",
   "metadata": {},
   "outputs": [],
   "source": [
    "contoh_data = torch.rand(100, 7)"
   ]
  },
  {
   "cell_type": "code",
   "execution_count": 81,
   "id": "93a3d801",
   "metadata": {},
   "outputs": [
    {
     "data": {
      "text/plain": [
       "tensor([[0.5409],\n",
       "        [0.5388],\n",
       "        [0.5384],\n",
       "        [0.5381],\n",
       "        [0.5310],\n",
       "        [0.5464],\n",
       "        [0.5375],\n",
       "        [0.5456],\n",
       "        [0.5422],\n",
       "        [0.5342],\n",
       "        [0.5368],\n",
       "        [0.5369],\n",
       "        [0.5379],\n",
       "        [0.5370],\n",
       "        [0.5433],\n",
       "        [0.5412],\n",
       "        [0.5326],\n",
       "        [0.5360],\n",
       "        [0.5364],\n",
       "        [0.5421],\n",
       "        [0.5340],\n",
       "        [0.5415],\n",
       "        [0.5354],\n",
       "        [0.5366],\n",
       "        [0.5382],\n",
       "        [0.5367],\n",
       "        [0.5393],\n",
       "        [0.5380],\n",
       "        [0.5425],\n",
       "        [0.5381],\n",
       "        [0.5404],\n",
       "        [0.5353],\n",
       "        [0.5406],\n",
       "        [0.5405],\n",
       "        [0.5377],\n",
       "        [0.5388],\n",
       "        [0.5310],\n",
       "        [0.5353],\n",
       "        [0.5405],\n",
       "        [0.5369],\n",
       "        [0.5365],\n",
       "        [0.5432],\n",
       "        [0.5283],\n",
       "        [0.5340],\n",
       "        [0.5367],\n",
       "        [0.5357],\n",
       "        [0.5355],\n",
       "        [0.5390],\n",
       "        [0.5398],\n",
       "        [0.5367],\n",
       "        [0.5340],\n",
       "        [0.5418],\n",
       "        [0.5421],\n",
       "        [0.5372],\n",
       "        [0.5350],\n",
       "        [0.5336],\n",
       "        [0.5411],\n",
       "        [0.5429],\n",
       "        [0.5426],\n",
       "        [0.5345],\n",
       "        [0.5413],\n",
       "        [0.5303],\n",
       "        [0.5368],\n",
       "        [0.5417],\n",
       "        [0.5375],\n",
       "        [0.5436],\n",
       "        [0.5437],\n",
       "        [0.5349],\n",
       "        [0.5345],\n",
       "        [0.5422],\n",
       "        [0.5396],\n",
       "        [0.5406],\n",
       "        [0.5381],\n",
       "        [0.5393],\n",
       "        [0.5325],\n",
       "        [0.5330],\n",
       "        [0.5300],\n",
       "        [0.5392],\n",
       "        [0.5384],\n",
       "        [0.5376],\n",
       "        [0.5425],\n",
       "        [0.5335],\n",
       "        [0.5435],\n",
       "        [0.5302],\n",
       "        [0.5400],\n",
       "        [0.5288],\n",
       "        [0.5369],\n",
       "        [0.5411],\n",
       "        [0.5360],\n",
       "        [0.5334],\n",
       "        [0.5304],\n",
       "        [0.5399],\n",
       "        [0.5386],\n",
       "        [0.5410],\n",
       "        [0.5350],\n",
       "        [0.5344],\n",
       "        [0.5421],\n",
       "        [0.5396],\n",
       "        [0.5354],\n",
       "        [0.5364]], grad_fn=<SigmoidBackward0>)"
      ]
     },
     "execution_count": 81,
     "metadata": {},
     "output_type": "execute_result"
    }
   ],
   "source": [
    "output = model(contoh_data)\n",
    "output"
   ]
  },
  {
   "cell_type": "code",
   "execution_count": null,
   "id": "b412740a",
   "metadata": {},
   "outputs": [],
   "source": []
  },
  {
   "cell_type": "code",
   "execution_count": null,
   "id": "5c930b10",
   "metadata": {},
   "outputs": [],
   "source": []
  }
 ],
 "metadata": {
  "kernelspec": {
   "display_name": "Python [conda env:jcop]",
   "language": "python",
   "name": "conda-env-jcop-py"
  },
  "language_info": {
   "codemirror_mode": {
    "name": "ipython",
    "version": 3
   },
   "file_extension": ".py",
   "mimetype": "text/x-python",
   "name": "python",
   "nbconvert_exporter": "python",
   "pygments_lexer": "ipython3",
   "version": "3.11.4"
  },
  "varInspector": {
   "cols": {
    "lenName": 16,
    "lenType": 16,
    "lenVar": 40
   },
   "kernels_config": {
    "python": {
     "delete_cmd_postfix": "",
     "delete_cmd_prefix": "del ",
     "library": "var_list.py",
     "varRefreshCmd": "print(var_dic_list())"
    },
    "r": {
     "delete_cmd_postfix": ") ",
     "delete_cmd_prefix": "rm(",
     "library": "var_list.r",
     "varRefreshCmd": "cat(var_dic_list()) "
    }
   },
   "types_to_exclude": [
    "module",
    "function",
    "builtin_function_or_method",
    "instance",
    "_Feature"
   ],
   "window_display": false
  }
 },
 "nbformat": 4,
 "nbformat_minor": 5
}
